{
  "cells": [
    {
      "cell_type": "code",
      "execution_count": null,
      "metadata": {
        "collapsed": false
      },
      "outputs": [],
      "source": [
        "%matplotlib inline"
      ]
    },
    {
      "cell_type": "markdown",
      "metadata": {},
      "source": [
        "\nHello World\n==============================\n"
      ]
    },
    {
      "cell_type": "code",
      "execution_count": null,
      "metadata": {
        "collapsed": false
      },
      "outputs": [],
      "source": [
        "from qparse import qparse\n\n\ndef parse():\n    return qparse(\n        descr=\"My first experiment\",\n        flags=[\n            (\"fig1\", \"Plot figure 1\"),\n            (\"fig2\", \"Plot figure 2\"),\n            (\"show\", \"Show plots during execution\"),\n            (\"save\", \"Save plots during execution\"),\n        ],\n    )\n\n\ndef make_fig_1(show, save):\n    print(\"Making figure 1...\")\n\n\ndef make_fig_2(show, save):\n    print(\"Making figure 2...\")\n\n\nif __name__ == \"__main__\":\n    args = parse()\n\n    if args.fig1:\n        make_fig_1(args.show, args.save)\n    if args.fig2:\n        make_fig_2(args.show, args.save)"
      ]
    }
  ],
  "metadata": {
    "kernelspec": {
      "display_name": "Python 3",
      "language": "python",
      "name": "python3"
    },
    "language_info": {
      "codemirror_mode": {
        "name": "ipython",
        "version": 3
      },
      "file_extension": ".py",
      "mimetype": "text/x-python",
      "name": "python",
      "nbconvert_exporter": "python",
      "pygments_lexer": "ipython3",
      "version": "3.7.3"
    }
  },
  "nbformat": 4,
  "nbformat_minor": 0
}